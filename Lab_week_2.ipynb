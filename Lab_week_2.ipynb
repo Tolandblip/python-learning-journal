{
  "nbformat": 4,
  "nbformat_minor": 0,
  "metadata": {
    "colab": {
      "provenance": []
    },
    "kernelspec": {
      "name": "python3",
      "display_name": "Python 3"
    },
    "language_info": {
      "name": "python"
    }
  },
  "cells": [
    {
      "cell_type": "code",
      "execution_count": null,
      "metadata": {
        "colab": {
          "base_uri": "https://localhost:8080/"
        },
        "id": "ev3zBb3_mE7r",
        "outputId": "7d4b74c5-60a9-4d9c-aff0-7746587a5386"
      },
      "outputs": [
        {
          "output_type": "stream",
          "name": "stdout",
          "text": [
            "How many kilometers? 18\n",
            "18.0 Kilometers is equivalent to 11.184678 Miles.\n",
            "How many degrees celsius? 40\n",
            "40.0 degrees celsius is equivalent to 104.0 fahrenheit.\n"
          ]
        }
      ],
      "source": [
        " # learned input prompt python from google https://www.google.com/search?q=input+prompt+python\n",
        "km_str = input(\"How many kilometers? \")\n",
        "miles = float(km_str)*0.621371\n",
        "print(float(km_str),\"Kilometers is equivalent to\",float(miles),\"Miles.\")\n",
        "\n",
        "celsius_str = input(\"How many degrees celsius? \")\n",
        "fahrenheit = (float(celsius_str)*1.8)+32\n",
        "print(float(celsius_str),\"degrees celsius is equivalent to\",float(fahrenheit), \"fahrenheit.\")"
      ]
    },
    {
      "cell_type": "code",
      "metadata": {
        "colab": {
          "base_uri": "https://localhost:8080/"
        },
        "id": "5a2d9b7e",
        "outputId": "b2553a2f-8707-4772-86a5-62ab200f08ea"
      },
      "source": [
        "# This code was written by AI\n",
        "binary = input(\"Enter a binary number: \")\n",
        "\n",
        "try:\n",
        "  decimal = int(binary, 2)\n",
        "  print(\"The decimal equivalent of\",str(binary),\"is\",str(decimal))\n",
        "  #edited this part to replace advanced stuff with what I learned in class\n",
        "except ValueError:\n",
        "  print(\"Invalid binary number entered.\")"
      ],
      "execution_count": 7,
      "outputs": [
        {
          "output_type": "stream",
          "name": "stdout",
          "text": [
            "Enter a binary number: 101101000\n",
            "The decimal equivalent of 101101000 is 360\n"
          ]
        }
      ]
    }
  ]
}