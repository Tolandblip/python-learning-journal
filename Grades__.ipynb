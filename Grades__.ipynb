{
  "nbformat": 4,
  "nbformat_minor": 0,
  "metadata": {
    "colab": {
      "provenance": []
    },
    "kernelspec": {
      "name": "python3",
      "display_name": "Python 3"
    },
    "language_info": {
      "name": "python"
    }
  },
  "cells": [
    {
      "cell_type": "code",
      "execution_count": 10,
      "metadata": {
        "colab": {
          "base_uri": "https://localhost:8080/"
        },
        "id": "DI41bn1yD58V",
        "outputId": "9fb68189-4a31-4391-e6d5-181ec4633198"
      },
      "outputs": [
        {
          "output_type": "stream",
          "name": "stdout",
          "text": [
            "Participation Discussions: 100\n",
            "Quizzes: 100\n",
            "Class Participation: 100\n",
            "Homework/Labs: 100\n",
            "Exams: 100\n",
            "10.0\n",
            "20.0\n",
            "5.0\n",
            "30.0\n",
            "35.0\n",
            "20020020020020.0\n"
          ]
        }
      ],
      "source": [
        "student = \"Ruth Davis\"\n",
        "pd = input(\"Participation Discussions: \")\n",
        "q = input(\"Quizzes: \")\n",
        "cp = input(\"Class Participation: \")\n",
        "hl = input(\"Homework/Labs: \")\n",
        "e = input(\"Exams: \")\n",
        "\n",
        "participationDiscussions = 0.1*int(pd)\n",
        "quizzes = 0.2*int(q)\n",
        "classParticipation = 0.05*int(cp)\n",
        "homeworkLabs = 0.3*int(hl)\n",
        "exams = 0.35*int(e)\n",
        "total = int(pd+q+cp+hl+e)/5\n",
        "#having trouble with this part, remember to fix later\n",
        "\n",
        "print(participationDiscussions)\n",
        "print(quizzes)\n",
        "print(classParticipation)\n",
        "print(homeworkLabs)\n",
        "print(exams)\n",
        "print(total)"
      ]
    }
  ]
}